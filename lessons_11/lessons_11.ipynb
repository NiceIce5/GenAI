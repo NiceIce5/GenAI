{
 "cells": [
  {
   "cell_type": "code",
   "execution_count": 127,
   "metadata": {
    "executionInfo": {
     "elapsed": 241,
     "status": "ok",
     "timestamp": 1737062426439,
     "user": {
      "displayName": "Andrii Melnychenko",
      "userId": "01331969983638300934"
     },
     "user_tz": -120
    },
    "id": "IB685l6YuYT5"
   },
   "outputs": [],
   "source": [
    "import torch\n",
    "import torch.nn as nn\n",
    "import torch.optim as optim\n",
    "import matplotlib.pyplot as plt\n",
    "import numpy as np\n",
    "import random\n",
    "import os\n",
    "from tqdm import tqdm\n",
    "from torchvision.utils import make_grid, save_image\n",
    "from torchvision import datasets, transforms\n",
    "from torch.utils.data import DataLoader\n",
    "import torch.nn.functional as F\n",
    "from skimage.metrics import structural_similarity as ssim\n",
    "from skimage.metrics import peak_signal_noise_ratio as psnr"
   ]
  },
  {
   "cell_type": "code",
   "execution_count": 128,
   "metadata": {
    "executionInfo": {
     "elapsed": 2,
     "status": "ok",
     "timestamp": 1737062427427,
     "user": {
      "displayName": "Andrii Melnychenko",
      "userId": "01331969983638300934"
     },
     "user_tz": -120
    },
    "id": "hVaREiIa5hNO"
   },
   "outputs": [],
   "source": [
    "device = torch.device('cuda' if torch.cuda.is_available() else 'cpu')\n",
    "torch.cuda.empty_cache()"
   ]
  },
  {
   "cell_type": "markdown",
   "metadata": {
    "id": "5ScIS31gwnN8"
   },
   "source": [
    "**1. Вибір та підготовка набору даних**\n",
    "\n",
    "**2. Попередня обробка даних**"
   ]
  },
  {
   "cell_type": "code",
   "execution_count": 129,
   "metadata": {
    "executionInfo": {
     "elapsed": 2,
     "status": "ok",
     "timestamp": 1737062427736,
     "user": {
      "displayName": "Andrii Melnychenko",
      "userId": "01331969983638300934"
     },
     "user_tz": -120
    },
    "id": "ONqPTyg75rLJ"
   },
   "outputs": [],
   "source": [
    "random_seed = 42\n",
    "batch_size = 128"
   ]
  },
  {
   "cell_type": "code",
   "execution_count": 130,
   "metadata": {
    "executionInfo": {
     "elapsed": 5,
     "status": "ok",
     "timestamp": 1737062428398,
     "user": {
      "displayName": "Andrii Melnychenko",
      "userId": "01331969983638300934"
     },
     "user_tz": -120
    },
    "id": "oTat69atwiMV"
   },
   "outputs": [],
   "source": [
    "# Data preparation\n",
    "transform = transforms.Compose([\n",
    "    transforms.ToTensor(),\n",
    "    transforms.Normalize((0.5,), (0.5,))\n",
    "])\n",
    "\n",
    "train_dataset = datasets.FashionMNIST(root='./data',\n",
    "                                train = True,\n",
    "                                download=True,\n",
    "                                transform=transform)\n",
    "\n",
    "test_dataset = datasets.FashionMNIST(root='./data',\n",
    "                                     train = False,\n",
    "                                     download=True,\n",
    "                                     transform=transform)\n",
    "\n",
    "train_loader = DataLoader(train_dataset, batch_size=batch_size, shuffle=True)\n",
    "test_loader = DataLoader(test_dataset, batch_size=batch_size, shuffle=True)"
   ]
  },
  {
   "cell_type": "code",
   "execution_count": 85,
   "metadata": {
    "colab": {
     "base_uri": "https://localhost:8080/"
    },
    "executionInfo": {
     "elapsed": 246,
     "status": "ok",
     "timestamp": 1737061517821,
     "user": {
      "displayName": "Andrii Melnychenko",
      "userId": "01331969983638300934"
     },
     "user_tz": -120
    },
    "id": "gZ0i3PxbxjUM",
    "outputId": "b82b10c0-2305-414a-8576-c83258f8b733"
   },
   "outputs": [
    {
     "name": "stdout",
     "output_type": "stream",
     "text": [
      "Train dataset 60000\n",
      "Train dataloader 469\n",
      "Test dataset 10000\n",
      "Test dataloader 79\n"
     ]
    }
   ],
   "source": [
    "print(f'Train dataset {len(train_dataset)}')\n",
    "print(f'Train dataloader {len(train_loader)}')\n",
    "print(f'Test dataset {len(test_dataset)}')\n",
    "print(f'Test dataloader {len(test_loader)}')"
   ]
  },
  {
   "cell_type": "code",
   "execution_count": 131,
   "metadata": {
    "colab": {
     "base_uri": "https://localhost:8080/",
     "height": 452
    },
    "executionInfo": {
     "elapsed": 273,
     "status": "ok",
     "timestamp": 1737062429559,
     "user": {
      "displayName": "Andrii Melnychenko",
      "userId": "01331969983638300934"
     },
     "user_tz": -120
    },
    "id": "x22gT7pNycdF",
    "outputId": "60408059-22ab-4bf6-ae10-399645a5f337"
   },
   "outputs": [
    {
     "data": {
      "image/png": "[encoded data removed]",
      "text/plain": [
       "<Figure size 640x480 with 1 Axes>"
      ]
     },
     "metadata": {},
     "output_type": "display_data"
    }
   ],
   "source": [
    "# Перевірка прикладу зображення\n",
    "examples = iter(train_loader)\n",
    "example_data, example_targets = next(examples)\n",
    "plt.imshow(example_data[0][0], cmap='gray')\n",
    "plt.title(f'Label: {example_targets[0]}')\n",
    "plt.show()"
   ]
  },
  {
   "cell_type": "markdown",
   "metadata": {
    "id": "F0VzWVSo4bGJ"
   },
   "source": [
    "**3. Реалізація архітектури VAE**"
   ]
  },
  {
   "cell_type": "code",
   "execution_count": 132,
   "metadata": {
    "executionInfo": {
     "elapsed": 214,
     "status": "ok",
     "timestamp": 1737062431582,
     "user": {
      "displayName": "Andrii Melnychenko",
      "userId": "01331969983638300934"
     },
     "user_tz": -120
    },
    "id": "g_Bh1Eld4gcX"
   },
   "outputs": [],
   "source": [
    "class VAE(nn.Module):\n",
    "    def __init__(self, latent_dim):\n",
    "        super().__init__()\n",
    "        self.fc1 = nn.Linear(784, 500)\n",
    "        self.fc21 = nn.Linear(500, latent_dim)  # fc21 for mean of Z\n",
    "        self.fc22 = nn.Linear(500, latent_dim)  # fc22 for log variance of Z\n",
    "        self.fc3 = nn.Linear(latent_dim, 500)\n",
    "        self.fc4 = nn.Linear(500, 784)\n",
    "\n",
    "    def encode(self, x):\n",
    "        h1 = F.relu(self.fc1(x))\n",
    "        mu = self.fc21(h1)\n",
    "        # I guess the reason for using logvar instead of std or var is that\n",
    "        # the output of fc22 can be negative value (std and var should be positive)\n",
    "        logvar = self.fc22(h1)\n",
    "        return mu, logvar\n",
    "\n",
    "    def reparameterize(self, mu, logvar):\n",
    "        std = torch.exp(0.5*logvar)\n",
    "        eps = torch.rand_like(std)\n",
    "        return mu + eps*std\n",
    "\n",
    "    def decode(self, z):\n",
    "        h3 = F.relu(self.fc3(z))\n",
    "        return torch.sigmoid(self.fc4(h3))\n",
    "\n",
    "    def forward(self, x):\n",
    "        # x: [batch size, 1, 28,28] -> x: [batch size, 784]\n",
    "        x = x.view(-1, 784)\n",
    "        mu, logvar = self.encode(x)\n",
    "        z = self.reparameterize(mu, logvar)\n",
    "        return self.decode(z), mu, logvar\n",
    "\n",
    "def loss_function(recon_x, x, mu, logvar, beta=1.0):\n",
    "    recon_loss = F.mse_loss(recon_x, x.view(-1, 784), reduction='sum') / x.size(0)\n",
    "    kld_loss = -0.5 * torch.sum(1 + logvar - mu.pow(2) - logvar.exp())\n",
    "\n",
    "    return recon_loss + beta * kld_loss"
   ]
  },
  {
   "cell_type": "markdown",
   "metadata": {
    "id": "bKBv79PZ5SZT"
   },
   "source": [
    "**4. Налаштування функцій втрат**\n",
    "\n",
    "\n",
    "*   Навчання моделі\n",
    "*   Генерація нових даних\n",
    "*   Аналіз результатів\n",
    "*   Документування висновків\n",
    "\n"
   ]
  },
  {
   "cell_type": "code",
   "execution_count": 74,
   "metadata": {
    "executionInfo": {
     "elapsed": 233,
     "status": "ok",
     "timestamp": 1737061252896,
     "user": {
      "displayName": "Andrii Melnychenko",
      "userId": "01331969983638300934"
     },
     "user_tz": -120
    },
    "id": "PEmwre_25UFc"
   },
   "outputs": [],
   "source": []
  },
  {
   "cell_type": "code",
   "execution_count": 148,
   "metadata": {
    "executionInfo": {
     "elapsed": 3,
     "status": "ok",
     "timestamp": 1737062789661,
     "user": {
      "displayName": "Andrii Melnychenko",
      "userId": "01331969983638300934"
     },
     "user_tz": -120
    },
    "id": "YETSfdj77_an"
   },
   "outputs": [],
   "source": [
    "def save_generated_img(image, name, epoch, nrow=8):\n",
    "    if not os.path.exists('./data/result'):\n",
    "        os.makedirs('./data/result')\n",
    "\n",
    "    if epoch % 1 == 0:\n",
    "        save_path = './data/result/'+name+'_'+str(epoch)+'.png'\n",
    "        save_image(image, save_path, nrow=nrow)\n",
    "\n",
    "def sample_from_model(epoch):\n",
    "    with torch.no_grad():\n",
    "        # p(z) = N(0,I), this distribution is used when calculating KLD. So we can sample z from N(0,I)\n",
    "        sample = torch.randn(64, latent_dim).to(device)\n",
    "        sample = model.decode(sample).cpu().view(64, 1, 28, 28)\n",
    "        save_generated_img(sample, 'sample', epoch)\n",
    "\n",
    "\n",
    "def plot_losses(train_losses):\n",
    "    plt.figure(figsize=(10, 5))\n",
    "    plt.plot(train_losses, label='Training Loss')\n",
    "    plt.title(f\"Training Loss\")\n",
    "    plt.xlabel('Epoch')\n",
    "    plt.ylabel('Loss')\n",
    "    plt.legend()\n",
    "    path = os.path.join(\"./data/result/\", f\"train_losses.png\")\n",
    "    plt.savefig(path)\n",
    "    plt.close()"
   ]
  },
  {
   "cell_type": "code",
   "execution_count": 151,
   "metadata": {
    "executionInfo": {
     "elapsed": 235,
     "status": "ok",
     "timestamp": 1737062875174,
     "user": {
      "displayName": "Andrii Melnychenko",
      "userId": "01331969983638300934"
     },
     "user_tz": -120
    },
    "id": "i36oGyUa7tCr"
   },
   "outputs": [],
   "source": [
    "latent_dim = 2\n",
    "num_epochs = 5\n",
    "learning_rate = 0.001\n",
    "model = VAE(latent_dim).to(device)\n",
    "optimizer = optim.Adam(model.parameters(), lr=learning_rate)"
   ]
  },
  {
   "cell_type": "code",
   "execution_count": 155,
   "metadata": {
    "executionInfo": {
     "elapsed": 232,
     "status": "ok",
     "timestamp": 1737062974275,
     "user": {
      "displayName": "Andrii Melnychenko",
      "userId": "01331969983638300934"
     },
     "user_tz": -120
    },
    "id": "y6qmYB735z70"
   },
   "outputs": [],
   "source": [
    "def train(num_epochs):\n",
    "\n",
    "    train_losses = []\n",
    "\n",
    "    for epoch in range(num_epochs):\n",
    "\n",
    "      model.train()\n",
    "      train_loss = 0\n",
    "\n",
    "      for batch_idx, (data, label) in enumerate(train_loader):\n",
    "          # data: [batch size, 1, 28, 28]\n",
    "          optimizer.zero_grad()\n",
    "          data = data.to(device)\n",
    "          recon_data, mu, logvar = model(data)\n",
    "          loss = loss_function(recon_data, data, mu, logvar)\n",
    "          loss.backward()\n",
    "          cur_loss = loss.item()\n",
    "          train_loss += cur_loss\n",
    "          optimizer.step()\n",
    "\n",
    "          if batch_idx % 100 == 0:\n",
    "              print('Train Epoch: {} [{}/{} ({:.0f}%)]\\tLoss: {:.6f}'.format(\n",
    "                  epoch+1, batch_idx * len(data), len(train_loader.dataset),\n",
    "                  100.*batch_idx / len(train_loader),\n",
    "                  cur_loss/len(data)))\n",
    "\n",
    "\n",
    "      train_losses.append(train_loss / len(train_loader.dataset))\n",
    "\n",
    "      print('====> Epoch: {} Average loss: {:.4f}'.format(\n",
    "          epoch+1, train_loss / len(train_loader.dataset)\n",
    "      ))\n",
    "\n",
    "    plot_losses(train_losses)\n",
    "\n",
    "\n",
    "def test(num_epochs):\n",
    "\n",
    "    for epoch in range(num_epochs):\n",
    "\n",
    "      model.eval()\n",
    "      test_loss = 0\n",
    "      with torch.no_grad():\n",
    "          for batch_idx, (data, label) in enumerate(test_loader):\n",
    "              data = data.to(device)\n",
    "              recon_data, mu, logvar = model(data)\n",
    "              cur_loss = loss_function(recon_data, data, mu, logvar).item()\n",
    "              test_loss += cur_loss\n",
    "              if batch_idx == 0:\n",
    "                  # saves 8 samples of the first batch as an image file to compare input images and reconstructed images\n",
    "                  num_samples = min(batch_size, 8)\n",
    "                  comparison = torch.cat(\n",
    "                      [data[:num_samples], recon_data.view(batch_size, 1, 28, 28)[:num_samples]]).cpu()\n",
    "                  save_generated_img(comparison, 'reconstruction', epoch, num_samples)\n",
    "\n",
    "    test_loss /= len(test_loader.dataset)\n",
    "    print('====> Test set loss: {:.4f}'.format(test_loss))"
   ]
  },
  {
   "cell_type": "code",
   "execution_count": 153,
   "metadata": {
    "colab": {
     "base_uri": "https://localhost:8080/"
    },
    "executionInfo": {
     "elapsed": 68660,
     "status": "ok",
     "timestamp": 1737062946419,
     "user": {
      "displayName": "Andrii Melnychenko",
      "userId": "01331969983638300934"
     },
     "user_tz": -120
    },
    "id": "g_fGF9p88S93",
    "outputId": "2f7c8b57-9af2-4bc7-fcfc-9ba5d984155f"
   },
   "outputs": [
    {
     "name": "stdout",
     "output_type": "stream",
     "text": [
      "Train Epoch: 1 [0/60000 (0%)]\tLoss: 8.562716\n",
      "Train Epoch: 1 [12800/60000 (21%)]\tLoss: 4.094111\n",
      "Train Epoch: 1 [25600/60000 (43%)]\tLoss: 4.066965\n",
      "Train Epoch: 1 [38400/60000 (64%)]\tLoss: 4.100491\n",
      "Train Epoch: 1 [51200/60000 (85%)]\tLoss: 4.138402\n",
      "====> Epoch: 1 Average loss: 4.2266\n",
      "Train Epoch: 2 [0/60000 (0%)]\tLoss: 4.034799\n",
      "Train Epoch: 2 [12800/60000 (21%)]\tLoss: 4.194203\n",
      "Train Epoch: 2 [25600/60000 (43%)]\tLoss: 4.064730\n",
      "Train Epoch: 2 [38400/60000 (64%)]\tLoss: 4.112405\n",
      "Train Epoch: 2 [51200/60000 (85%)]\tLoss: 4.050801\n",
      "====> Epoch: 2 Average loss: 4.0712\n",
      "Train Epoch: 3 [0/60000 (0%)]\tLoss: 4.036766\n",
      "Train Epoch: 3 [12800/60000 (21%)]\tLoss: 4.062459\n",
      "Train Epoch: 3 [25600/60000 (43%)]\tLoss: 3.995591\n",
      "Train Epoch: 3 [38400/60000 (64%)]\tLoss: 3.948399\n",
      "Train Epoch: 3 [51200/60000 (85%)]\tLoss: 3.918973\n",
      "====> Epoch: 3 Average loss: 4.0643\n",
      "Train Epoch: 4 [0/60000 (0%)]\tLoss: 3.991339\n",
      "Train Epoch: 4 [12800/60000 (21%)]\tLoss: 3.971767\n",
      "Train Epoch: 4 [25600/60000 (43%)]\tLoss: 4.118728\n",
      "Train Epoch: 4 [38400/60000 (64%)]\tLoss: 4.054808\n",
      "Train Epoch: 4 [51200/60000 (85%)]\tLoss: 4.029037\n",
      "====> Epoch: 4 Average loss: 4.0610\n",
      "Train Epoch: 5 [0/60000 (0%)]\tLoss: 4.055914\n",
      "Train Epoch: 5 [12800/60000 (21%)]\tLoss: 3.952448\n",
      "Train Epoch: 5 [25600/60000 (43%)]\tLoss: 3.999521\n",
      "Train Epoch: 5 [38400/60000 (64%)]\tLoss: 3.952191\n",
      "Train Epoch: 5 [51200/60000 (85%)]\tLoss: 4.034487\n",
      "====> Epoch: 5 Average loss: 4.0579\n"
     ]
    }
   ],
   "source": [
    "#Тренування\n",
    "train(num_epochs)"
   ]
  },
  {
   "cell_type": "code",
   "execution_count": 156,
   "metadata": {
    "colab": {
     "base_uri": "https://localhost:8080/"
    },
    "executionInfo": {
     "elapsed": 8712,
     "status": "ok",
     "timestamp": 1737062984457,
     "user": {
      "displayName": "Andrii Melnychenko",
      "userId": "01331969983638300934"
     },
     "user_tz": -120
    },
    "id": "Y2UcxIdE8t12",
    "outputId": "794a7c91-3824-47bf-dae9-0e264c2d2512"
   },
   "outputs": [
    {
     "name": "stdout",
     "output_type": "stream",
     "text": [
      "====> Test set loss: 4.0832\n"
     ]
    }
   ],
   "source": [
    "#Тестування\n",
    "test(num_epochs)"
   ]
  },
  {
   "cell_type": "code",
   "execution_count": 157,
   "metadata": {
    "executionInfo": {
     "elapsed": 265,
     "status": "ok",
     "timestamp": 1737062989487,
     "user": {
      "displayName": "Andrii Melnychenko",
      "userId": "01331969983638300934"
     },
     "user_tz": -120
    },
    "id": "viFbH9ovAnZM"
   },
   "outputs": [],
   "source": [
    "#Генерація нових картинок\n",
    "sample_from_model(num_epochs)"
   ]
  }
 ],
 "metadata": {
  "colab": {
   "authorship_tag": "ABX9TyNNF+zpjD+qBWsjBFCOzXzr",
   "machine_shape": "hm",
   "provenance": []
  },
  "kernelspec": {
   "display_name": "Python 3",
   "name": "python3"
  },
  "language_info": {
   "name": "python"
  }
 },
 "nbformat": 4,
 "nbformat_minor": 0
}
